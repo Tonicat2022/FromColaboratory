{
  "cells": [
    {
      "cell_type": "markdown",
      "metadata": {
        "id": "view-in-github",
        "colab_type": "text"
      },
      "source": [
        "<a href=\"https://colab.research.google.com/github/Tonicat2022/FromColaboratory/blob/main/1C_to_xlsx.ipynb\" target=\"_parent\"><img src=\"https://colab.research.google.com/assets/colab-badge.svg\" alt=\"Open In Colab\"/></a>"
      ]
    },
    {
      "cell_type": "code",
      "execution_count": 5,
      "id": "d622c6f6",
      "metadata": {
        "id": "d622c6f6"
      },
      "outputs": [],
      "source": [
        "import pandas as pd\n",
        "import os\n",
        "\n",
        "# Open the Excel file\n",
        "file_path = \"/content/For Test.xlsx\"\n",
        "df = pd.read_excel(file_path)"
      ]
    },
    {
      "cell_type": "code",
      "source": [
        "# Create a new Excel file \"Original\" in the same folder as the first file\n",
        "result_file_path = file_path.replace(\"For test\", \"Original\")\n",
        "writer = pd.ExcelWriter(result_file_path, engine='xlsxwriter')\n",
        "df.to_excel(writer, index=False)"
      ],
      "metadata": {
        "id": "Zizjs3yJ_G2E"
      },
      "id": "Zizjs3yJ_G2E",
      "execution_count": null,
      "outputs": []
    },
    {
      "cell_type": "code",
      "source": [
        "# Close the new Excel file\n",
        "writer.save()"
      ],
      "metadata": {
        "id": "AuMH66UzCd43"
      },
      "id": "AuMH66UzCd43",
      "execution_count": null,
      "outputs": []
    },
    {
      "cell_type": "code",
      "execution_count": null,
      "metadata": {
        "id": "37c8c7a5"
      },
      "outputs": [],
      "source": [
        "#Find the row number with text \"Выводимые данные\"\n",
        "try:\n",
        "    row_number = df[df.iloc[:, 0].str.contains(\"Выводимые данные\", na=False)].index[0]\n",
        "except IndexError:\n",
        "    # If the row with text \"Выводимые данные\" could not be found, move to the next step\n",
        "    pass\n",
        "else:\n",
        "    # Delete all rows from 0 to row with \"Выводимые данные\" (including)\n",
        "    df.drop(df.index[0:row_number + 1], inplace=True)"
      ],
      "id": "37c8c7a5"
    },
    {
      "cell_type": "code",
      "source": [
        "# Check if the first row is empty and delete until it's not empty\n",
        "while df.iloc[0].isnull().all():\n",
        "    df.drop(df.index[0], inplace=True)"
      ],
      "metadata": {
        "id": "EOrgHKsYChpx"
      },
      "id": "EOrgHKsYChpx",
      "execution_count": null,
      "outputs": []
    },
    {
      "cell_type": "code",
      "source": [
        "# Delete all user format and set it to default\n",
        "df.style.format(\"{}\").to_excel(file_path, index=False)"
      ],
      "metadata": {
        "id": "1fxdcg8VClX5"
      },
      "id": "1fxdcg8VClX5",
      "execution_count": null,
      "outputs": []
    },
    {
      "cell_type": "code",
      "source": [
        "# Get the number of columns\n",
        "num_columns = df.shape[1]"
      ],
      "metadata": {
        "id": "LLukCLlsCoZA"
      },
      "id": "LLukCLlsCoZA",
      "execution_count": null,
      "outputs": []
    },
    {
      "cell_type": "code",
      "source": [
        "# Delete any empty columns\n",
        "for i in range(num_columns-1, -1, -1):\n",
        "    if df.iloc[:, i].isnull().all():\n",
        "        df = df.drop(df.columns[i], axis=1)"
      ],
      "metadata": {
        "id": "0IifS-JuCpuU"
      },
      "id": "0IifS-JuCpuU",
      "execution_count": null,
      "outputs": []
    },
    {
      "cell_type": "code",
      "source": [
        "# Create a new Excel file \"Test result\" in the same folder as the first file\n",
        "result_file_path = file_path.replace(\"For test\", \"Test result\")\n",
        "writer = pd.ExcelWriter(result_file_path, engine='xlsxwriter')\n",
        "df.to_excel(writer, index=False)"
      ],
      "metadata": {
        "id": "Azwm4bLzCqvI"
      },
      "id": "Azwm4bLzCqvI",
      "execution_count": null,
      "outputs": []
    },
    {
      "cell_type": "code",
      "source": [
        "# Close the new Excel file\n",
        "writer.save()"
      ],
      "metadata": {
        "id": "LYPgYupWCrz9"
      },
      "id": "LYPgYupWCrz9",
      "execution_count": null,
      "outputs": []
    },
    {
      "cell_type": "code",
      "source": [
        "# Close the file and empty memory\n",
        "df.close()\n",
        "del df"
      ],
      "metadata": {
        "id": "8aC6vthvCuXz"
      },
      "id": "8aC6vthvCuXz",
      "execution_count": null,
      "outputs": []
    }
  ],
  "metadata": {
    "kernelspec": {
      "display_name": "Python 3 (ipykernel)",
      "language": "python",
      "name": "python3"
    },
    "language_info": {
      "codemirror_mode": {
        "name": "ipython",
        "version": 3
      },
      "file_extension": ".py",
      "mimetype": "text/x-python",
      "name": "python",
      "nbconvert_exporter": "python",
      "pygments_lexer": "ipython3",
      "version": "3.9.12"
    },
    "colab": {
      "provenance": [],
      "include_colab_link": true
    }
  },
  "nbformat": 4,
  "nbformat_minor": 5
}
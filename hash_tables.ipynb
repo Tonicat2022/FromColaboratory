{
  "nbformat": 4,
  "nbformat_minor": 0,
  "metadata": {
    "colab": {
      "provenance": [],
      "toc_visible": true,
      "authorship_tag": "ABX9TyOjwBRJbyN8ckal7ZcIsmNC",
      "include_colab_link": true
    },
    "kernelspec": {
      "name": "python3",
      "display_name": "Python 3"
    },
    "language_info": {
      "name": "python"
    }
  },
  "cells": [
    {
      "cell_type": "markdown",
      "metadata": {
        "id": "view-in-github",
        "colab_type": "text"
      },
      "source": [
        "<a href=\"https://colab.research.google.com/github/Tonicat2022/FromColaboratory/blob/main/hash_tables.ipynb\" target=\"_parent\"><img src=\"https://colab.research.google.com/assets/colab-badge.svg\" alt=\"Open In Colab\"/></a>"
      ]
    },
    {
      "cell_type": "markdown",
      "source": [
        "# Hash tables (Хэш таблицы\\словари)\n",
        "* тип: ключ + объект\\значение\n",
        "1. моделирование отношений между объектами\n",
        "2. устранение дубликатов\n",
        "3. кэширование\\запоминание данных вместо выполнения работы на сервере"
      ],
      "metadata": {
        "id": "m2_TiQr1Kv44"
      }
    },
    {
      "cell_type": "code",
      "execution_count": null,
      "metadata": {
        "id": "uQAMVjaeZWqp"
      },
      "outputs": [],
      "source": [
        "voted = {}\n",
        "def check_voted(name): # Def – это инструкция языка программирования Python, позволяющая создавать функцию\n",
        "# проверяет объект по ключу name\n",
        "  if voted.get(name): # Метод get () возвращает значение по указанному ключу в параметрах\n",
        "    print(\"kick \", name, \" out!\") # если имя есть, то печатает результат\n",
        "  else:\n",
        "    voted[name] = True # Присваевает значение True элементу с ключом name\n",
        "    print(\"let them vote!\")"
      ]
    },
    {
      "cell_type": "code",
      "source": [
        "check_voted(\"tom\")"
      ],
      "metadata": {
        "colab": {
          "base_uri": "https://localhost:8080/"
        },
        "id": "bbYdeRCAZ8Bo",
        "outputId": "17af2d31-9ece-4385-db02-1476f9be2e6e"
      },
      "execution_count": null,
      "outputs": [
        {
          "output_type": "stream",
          "name": "stdout",
          "text": [
            "let them vote!\n"
          ]
        }
      ]
    },
    {
      "cell_type": "code",
      "source": [
        "check_voted(\"mike\")"
      ],
      "metadata": {
        "colab": {
          "base_uri": "https://localhost:8080/"
        },
        "id": "mkFzBrznaNbP",
        "outputId": "82f3a091-61ed-42a6-edb1-4d3916d490e9"
      },
      "execution_count": null,
      "outputs": [
        {
          "output_type": "stream",
          "name": "stdout",
          "text": [
            "let them vote!\n"
          ]
        }
      ]
    },
    {
      "cell_type": "code",
      "source": [
        "check_voted(\"mike\")"
      ],
      "metadata": {
        "colab": {
          "base_uri": "https://localhost:8080/"
        },
        "id": "OQ5yj057aS95",
        "outputId": "317158de-9b87-4e44-ac5c-d1f63c8795a0"
      },
      "execution_count": null,
      "outputs": [
        {
          "output_type": "stream",
          "name": "stdout",
          "text": [
            "kick  mike  out!\n"
          ]
        }
      ]
    },
    {
      "cell_type": "markdown",
      "source": [
        "# Graph, breadth-first search (Графы, поиск в ширину)\n",
        "* \n",
        "1. Позволяет определить, существует ли путь из A в B\n",
        "2. Если существует, по поиску в ширину находит кратчайший путь\n",
        "3. Очереди относятся к категории FIFO\n",
        "4. Стеки относятся к категории LIPO"
      ],
      "metadata": {
        "id": "aoDY09VoKwiN"
      }
    },
    {
      "cell_type": "code",
      "source": [
        "# задаем граф, указываем все узловые элементы и связи начиная от себя (you)\n",
        "graph = {} # пустая хэш таблица\n",
        "graph[\"you\"] = [\"alice\", \"bob\", \"claire\"] # отсюда и далее наполнение\n",
        "graph[\"bob\"] = [\"anuj\", \"peggy\"]\n",
        "graph[\"alice\"] = [\"peggy\"]\n",
        "graph[\"claire\"] = [\"thom\", \"jonny\"]\n",
        "graph[\"anuj\"] = [] # т.е. указываем что дальшейших связей нет ->конец ветвления\n",
        "graph[\"peggy\"] = []\n",
        "graph[\"thom\"] = []\n",
        "graph[\"jonny\"] = []\n",
        "print(graph)\n"
      ],
      "metadata": {
        "colab": {
          "base_uri": "https://localhost:8080/"
        },
        "id": "6jn4KOmBMKJT",
        "outputId": "37f40517-1228-4dc7-858c-90656e412c3e"
      },
      "execution_count": null,
      "outputs": [
        {
          "output_type": "stream",
          "name": "stdout",
          "text": [
            "{'you': ['alice', 'bob', 'claire'], 'bob': ['anuj', 'peggy'], 'alice': ['peggy'], 'claire': ['thom', 'jonny'], 'anuj': [], 'peggy': [], 'thom': [], 'jonny': []}\n"
          ]
        }
      ]
    },
    {
      "cell_type": "code",
      "source": [
        "from collections import deque\n",
        "\n",
        "def person_is_seller(name): # определяем функцию проверки\n",
        "      return name[-1] == 'm' # последний символ имени равен m\n",
        "\n",
        "def search(name):\n",
        "    search_queue = deque() # создание очереди\n",
        "    search_queue += [name] # тоже что search_queue = search_queue + [name] т.е. очередь увеличивается на элемент name\n",
        "    # This is how you keep track of which people you've searched before.\n",
        "    searched = set() # Класс set (множество) - неупорядоченную коллекцию уникальных элементов\n",
        "    while search_queue:\n",
        "        person = search_queue.popleft() # Popleft () - удаляет и возвращает первый элемент очереди\n",
        "       # Only search this person if you haven't already searched them.\n",
        "        if person in searched:\n",
        "            continue\n",
        "        if person_is_seller(person):\n",
        "            print(person + \" is a mango seller!\")\n",
        "            return True\n",
        "        search_queue += graph[person]\n",
        "        # Marks this person as searched\n",
        "        searched.add(person)\n",
        "    return False\n",
        "\n",
        "search(\"you\")"
      ],
      "metadata": {
        "colab": {
          "base_uri": "https://localhost:8080/"
        },
        "id": "zqjDBgmEMRu2",
        "outputId": "717600ea-33d7-4077-ae16-94785017b27b"
      },
      "execution_count": null,
      "outputs": [
        {
          "output_type": "stream",
          "name": "stdout",
          "text": [
            "thom is a mango seller!\n"
          ]
        },
        {
          "output_type": "execute_result",
          "data": {
            "text/plain": [
              "True"
            ]
          },
          "metadata": {},
          "execution_count": 6
        }
      ]
    },
    {
      "cell_type": "markdown",
      "source": [
        "# Dijkstras algorithm (Алгоритм Дейкстры)\n",
        "* Graphs with weight (Графы с весом)\n",
        "1. Найти узел с наименьшим costs\n",
        "2. Проверить существует ли более дешевый путь к соседям этого узла, и если существует, обновить их стоимость\n",
        "3. Повторять, пока это не будет сделано для всех узлов графа\n",
        "4. Вычислить итоговый путь\n",
        "* *_работает только с направляенными ациклическими графами_*\n",
        "* *_не работает с отрицательными весами_*\n",
        "* *_для работы с отрицательными весами применяется алгоритм беллмана форда_*\n"
      ],
      "metadata": {
        "id": "J5ZnhtxIak9o"
      }
    },
    {
      "cell_type": "code",
      "source": [
        "# the graph\n",
        "graph = {} # инициируем хэш таблицу\n",
        "graph[\"start\"] = {} # инициируем вложенную хэш таблицу\n",
        "graph[\"start\"][\"a\"] = 6 # заполняем вложенную хэш таблицу\n",
        "graph[\"start\"][\"b\"] = 2 # заполняем вложенную хэш таблицу\n",
        "\n",
        "graph[\"a\"] = {} # инициируем хэш таблицу\n",
        "graph[\"a\"][\"fin\"] = 1 # заполняем вложенную хэш таблицу\n",
        "\n",
        "graph[\"b\"] = {} # инициируем хэш таблицу\n",
        "graph[\"b\"][\"a\"] = 3 # заполняем вложенную хэш таблицу\n",
        "graph[\"b\"][\"fin\"] = 5 # заполняем вложенную хэш таблицу\n",
        "\n",
        "graph[\"fin\"] = {} # инициируем хэш таблицу"
      ],
      "metadata": {
        "id": "jpStfyAmbkVw"
      },
      "execution_count": null,
      "outputs": []
    },
    {
      "cell_type": "code",
      "source": [
        "# the costs table\n",
        "infinity = float(\"inf\") # определяем и присваеваем бесконечность\n",
        "costs = {} # инициируем хэш таблицу\n",
        "costs[\"a\"] = 6 # заполняем вложенную хэш таблицу\n",
        "costs[\"b\"] = 2 # заполняем вложенную хэш таблицу\n",
        "costs[\"fin\"] = infinity # заполняем вложенную хэш таблицу бесконечностью"
      ],
      "metadata": {
        "id": "U2WD8pk_blWG"
      },
      "execution_count": null,
      "outputs": []
    },
    {
      "cell_type": "code",
      "source": [
        "# the parents table\n",
        "parents = {}\n",
        "parents[\"a\"] = \"start\"\n",
        "parents[\"b\"] = \"start\"\n",
        "parents[\"fin\"] = None"
      ],
      "metadata": {
        "id": "DHOqWI1Sbp9z"
      },
      "execution_count": null,
      "outputs": []
    },
    {
      "cell_type": "code",
      "source": [
        "processed = []"
      ],
      "metadata": {
        "id": "inEhODbdbsuu"
      },
      "execution_count": null,
      "outputs": []
    },
    {
      "cell_type": "code",
      "source": [
        "def find_lowest_cost_node(costs):\n",
        "    lowest_cost = float(\"inf\")\n",
        "    lowest_cost_node = None\n",
        "    # Go through each node.\n",
        "    for node in costs:\n",
        "        cost = costs[node]\n",
        "        # If it's the lowest cost so far and hasn't been processed yet...\n",
        "        if cost < lowest_cost and node not in processed:\n",
        "            # ... set it as the new lowest-cost node.\n",
        "            lowest_cost = cost\n",
        "            lowest_cost_node = node\n",
        "    return lowest_cost_node"
      ],
      "metadata": {
        "id": "J0UuZ-rib9a-"
      },
      "execution_count": null,
      "outputs": []
    },
    {
      "cell_type": "code",
      "source": [
        "# Find the lowest-cost node that you haven't processed yet.\n",
        "node = find_lowest_cost_node(costs)"
      ],
      "metadata": {
        "id": "2hUIx6ZpcAu7"
      },
      "execution_count": null,
      "outputs": []
    },
    {
      "cell_type": "code",
      "source": [
        "# If you've processed all the nodes, this while loop is done.\n",
        "while node is not None:\n",
        "    cost = costs[node]\n",
        "    # Go through all the neighbors of this node.\n",
        "    neighbors = graph[node]\n",
        "    for n in neighbors.keys():\n",
        "        new_cost = cost + neighbors[n]\n",
        "        # If it's cheaper to get to this neighbor by going through this node...\n",
        "        if costs[n] > new_cost:\n",
        "            # ... update the cost for this node.\n",
        "            costs[n] = new_cost\n",
        "            # This node becomes the new parent for this neighbor.\n",
        "            parents[n] = node\n",
        "    # Mark the node as processed.\n",
        "    processed.append(node)\n",
        "    # Find the next node to process, and loop.\n",
        "    node = find_lowest_cost_node(costs)\n",
        "\n",
        "print(\"Cost from the start to each node:\")\n",
        "print(costs)"
      ],
      "metadata": {
        "colab": {
          "base_uri": "https://localhost:8080/"
        },
        "id": "NeThhg-McEbG",
        "outputId": "2d536ddb-7147-40e9-cfba-08b8660e0727"
      },
      "execution_count": null,
      "outputs": [
        {
          "output_type": "stream",
          "name": "stdout",
          "text": [
            "Cost from the start to each node:\n",
            "{'a': 5, 'b': 2, 'fin': 6}\n"
          ]
        }
      ]
    },
    {
      "cell_type": "code",
      "source": [],
      "metadata": {
        "id": "eOzbrTOucEm4"
      },
      "execution_count": null,
      "outputs": []
    }
  ]
}